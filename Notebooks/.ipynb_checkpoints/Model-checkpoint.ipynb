{
 "cells": [
  {
   "cell_type": "markdown",
   "id": "10608410-5733-4ec6-b957-38eb3824108e",
   "metadata": {},
   "source": [
    "# CS 3500 - The Model 🧠"
   ]
  },
  {
   "cell_type": "markdown",
   "id": "a85a341e-4657-497b-a554-94ce620de843",
   "metadata": {},
   "source": [
    "## Import Libraries 📚"
   ]
  },
  {
   "cell_type": "code",
   "execution_count": 2,
   "id": "4b88bdcf",
   "metadata": {
    "papermill": {
     "duration": 1.463959,
     "end_time": "2023-11-12T05:35:36.268855",
     "exception": false,
     "start_time": "2023-11-12T05:35:34.804896",
     "status": "completed"
    },
    "tags": []
   },
   "outputs": [],
   "source": [
    "# Import Libraries import numpy as np\n",
    "import matplotlib.pyplot as plt\n",
    "import torch.nn as nn\n",
    "import pandas as pd"
   ]
  },
  {
   "cell_type": "markdown",
   "id": "d33fca38-0179-41b5-9b66-bb29f32df65d",
   "metadata": {},
   "source": []
  }
 ],
 "metadata": {
  "kernelspec": {
   "display_name": "Python 3 (ipykernel)",
   "language": "python",
   "name": "python3"
  },
  "language_info": {
   "codemirror_mode": {
    "name": "ipython",
    "version": 3
   },
   "file_extension": ".py",
   "mimetype": "text/x-python",
   "name": "python",
   "nbconvert_exporter": "python",
   "pygments_lexer": "ipython3",
   "version": "3.13.2"
  },
  "papermill": {
   "default_parameters": {},
   "duration": 46.575593,
   "end_time": "2023-11-12T05:36:17.402622",
   "environment_variables": {},
   "exception": null,
   "input_path": "__notebook__.ipynb",
   "output_path": "__notebook__.ipynb",
   "parameters": {},
   "start_time": "2023-11-12T05:35:30.827029",
   "version": "2.4.0"
  }
 },
 "nbformat": 4,
 "nbformat_minor": 5
}
