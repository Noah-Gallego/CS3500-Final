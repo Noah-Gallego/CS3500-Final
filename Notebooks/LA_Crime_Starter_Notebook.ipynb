{
 "cells": [
  {
   "cell_type": "markdown",
   "id": "10608410-5733-4ec6-b957-38eb3824108e",
   "metadata": {},
   "source": [
    "# CS 3500 - Starter Notebook"
   ]
  },
  {
   "cell_type": "code",
   "execution_count": 1,
   "id": "28bde307-8695-434c-9a22-09894d3454a3",
   "metadata": {},
   "outputs": [
    {
     "name": "stdout",
     "output_type": "stream",
     "text": [
      "Selected Jupyter core packages...\n",
      "IPython          : 8.30.0\n",
      "ipykernel        : 6.29.5\n",
      "ipywidgets       : 8.1.5\n",
      "jupyter_client   : 8.6.3\n",
      "jupyter_core     : 5.7.2\n",
      "jupyter_server   : 2.15.0\n",
      "jupyterlab       : 4.3.4\n",
      "nbclient         : 0.10.2\n",
      "nbconvert        : 7.16.6\n",
      "nbformat         : 5.10.4\n",
      "notebook         : 7.3.2\n",
      "qtconsole        : 5.6.1\n",
      "traitlets        : 5.14.3\n"
     ]
    }
   ],
   "source": [
    "# Check current version of Jupyter\n",
    "!jupyter --version"
   ]
  },
  {
   "cell_type": "code",
   "execution_count": 3,
   "id": "3e3d6707",
   "metadata": {
    "_cell_guid": "b1076dfc-b9ad-4769-8c92-a6c4dae69d19",
    "_uuid": "8f2839f25d086af736a60e9eeb907d3b93b6e0e5",
    "papermill": {
     "duration": 0.454344,
     "end_time": "2023-11-12T05:35:34.785809",
     "exception": false,
     "start_time": "2023-11-12T05:35:34.331465",
     "status": "completed"
    },
    "tags": []
   },
   "outputs": [],
   "source": [
    "# Here several helpful packages to load\n",
    "import numpy as np # linear algebra\n",
    "import pandas as pd # data processing, CSV file I/O (e.g. pd.read_csv)\n",
    "import os"
   ]
  },
  {
   "cell_type": "code",
   "execution_count": 4,
   "id": "4b88bdcf",
   "metadata": {
    "papermill": {
     "duration": 1.463959,
     "end_time": "2023-11-12T05:35:36.268855",
     "exception": false,
     "start_time": "2023-11-12T05:35:34.804896",
     "status": "completed"
    },
    "tags": []
   },
   "outputs": [],
   "source": [
    "#importing libraries\n",
    "import numpy as np\n",
    "import regex\n",
    "import matplotlib.pyplot as plt\n",
    "import seaborn as sns\n",
    "from datetime import datetime"
   ]
  },
  {
   "cell_type": "markdown",
   "id": "44eb4c99-8aae-47b7-9cec-8feeda0e15e1",
   "metadata": {},
   "source": [
    "### Read Data Set and Look at  Metadata"
   ]
  },
  {
   "cell_type": "code",
   "execution_count": 5,
   "id": "b6e963b6",
   "metadata": {
    "papermill": {
     "duration": 6.399008,
     "end_time": "2023-11-12T05:35:42.687768",
     "exception": false,
     "start_time": "2023-11-12T05:35:36.288760",
     "status": "completed"
    },
    "tags": []
   },
   "outputs": [],
   "source": [
    "#reading the CSV file into dataframe df\n",
    "# Data should be located in the same folder as the notebook for this to work\n",
    "df = pd.read_csv('../Data/LA_Crime_Data_2023_to_Present_data.csv') "
   ]
  },
  {
   "cell_type": "code",
   "execution_count": 6,
   "id": "32ee0041",
   "metadata": {
    "papermill": {
     "duration": 0.029953,
     "end_time": "2023-11-12T05:35:44.183960",
     "exception": false,
     "start_time": "2023-11-12T05:35:44.154007",
     "status": "completed"
    },
    "tags": []
   },
   "outputs": [
    {
     "name": "stdout",
     "output_type": "stream",
     "text": [
      "(390088, 21)\n"
     ]
    }
   ],
   "source": [
    "# print shape of dataframe\n",
    "print(df.shape)"
   ]
  },
  {
   "cell_type": "code",
   "execution_count": 7,
   "id": "14283e89",
   "metadata": {
    "papermill": {
     "duration": 0.040628,
     "end_time": "2023-11-12T05:35:42.747841",
     "exception": false,
     "start_time": "2023-11-12T05:35:42.707213",
     "status": "completed"
    },
    "tags": []
   },
   "outputs": [
    {
     "name": "stdout",
     "output_type": "stream",
     "text": [
      "<class 'pandas.core.frame.DataFrame'>\n",
      "RangeIndex: 390088 entries, 0 to 390087\n",
      "Data columns (total 21 columns):\n",
      " #   Column          Non-Null Count   Dtype  \n",
      "---  ------          --------------   -----  \n",
      " 0   Unnamed: 0      390088 non-null  int64  \n",
      " 1   DR_NO           390088 non-null  int64  \n",
      " 2   Date Rptd       390088 non-null  object \n",
      " 3   DATE OCC        390088 non-null  object \n",
      " 4   TIME OCC        390088 non-null  int64  \n",
      " 5   AREA            390088 non-null  int64  \n",
      " 6   AREA NAME       390088 non-null  object \n",
      " 7   Rpt Dist No     390088 non-null  int64  \n",
      " 8   Part 1-2        390088 non-null  int64  \n",
      " 9   Crm Cd          390088 non-null  int64  \n",
      " 10  Crm Cd Desc     390088 non-null  object \n",
      " 11  Mocodes         319764 non-null  object \n",
      " 12  Vict Age        390088 non-null  int64  \n",
      " 13  Vict Sex        322491 non-null  object \n",
      " 14  Vict Descent    322483 non-null  object \n",
      " 15  Premis Cd       390077 non-null  float64\n",
      " 16  Premis Desc     389790 non-null  object \n",
      " 17  Weapon Used Cd  108059 non-null  float64\n",
      " 18  Weapon Desc     108059 non-null  object \n",
      " 19  Status          390086 non-null  object \n",
      " 20  Status Desc     390088 non-null  object \n",
      "dtypes: float64(2), int64(8), object(11)\n",
      "memory usage: 62.5+ MB\n"
     ]
    }
   ],
   "source": [
    "# print basic info about the data frame\n",
    "df.info()"
   ]
  },
  {
   "cell_type": "code",
   "execution_count": 8,
   "id": "4cb56290",
   "metadata": {
    "papermill": {
     "duration": 0.140123,
     "end_time": "2023-11-12T05:35:42.906987",
     "exception": false,
     "start_time": "2023-11-12T05:35:42.766864",
     "status": "completed"
    },
    "tags": []
   },
   "outputs": [
    {
     "data": {
      "text/html": [
       "<div>\n",
       "<style scoped>\n",
       "    .dataframe tbody tr th:only-of-type {\n",
       "        vertical-align: middle;\n",
       "    }\n",
       "\n",
       "    .dataframe tbody tr th {\n",
       "        vertical-align: top;\n",
       "    }\n",
       "\n",
       "    .dataframe thead th {\n",
       "        text-align: right;\n",
       "    }\n",
       "</style>\n",
       "<table border=\"1\" class=\"dataframe\">\n",
       "  <thead>\n",
       "    <tr style=\"text-align: right;\">\n",
       "      <th></th>\n",
       "      <th>Unnamed: 0</th>\n",
       "      <th>DR_NO</th>\n",
       "      <th>Date Rptd</th>\n",
       "      <th>DATE OCC</th>\n",
       "      <th>TIME OCC</th>\n",
       "      <th>AREA</th>\n",
       "      <th>AREA NAME</th>\n",
       "      <th>Rpt Dist No</th>\n",
       "      <th>Part 1-2</th>\n",
       "      <th>Crm Cd</th>\n",
       "      <th>...</th>\n",
       "      <th>Mocodes</th>\n",
       "      <th>Vict Age</th>\n",
       "      <th>Vict Sex</th>\n",
       "      <th>Vict Descent</th>\n",
       "      <th>Premis Cd</th>\n",
       "      <th>Premis Desc</th>\n",
       "      <th>Weapon Used Cd</th>\n",
       "      <th>Weapon Desc</th>\n",
       "      <th>Status</th>\n",
       "      <th>Status Desc</th>\n",
       "    </tr>\n",
       "  </thead>\n",
       "  <tbody>\n",
       "    <tr>\n",
       "      <th>0</th>\n",
       "      <td>644971</td>\n",
       "      <td>230611294</td>\n",
       "      <td>06/17/2023 12:00:00 AM</td>\n",
       "      <td>2023-06-17</td>\n",
       "      <td>1140</td>\n",
       "      <td>6</td>\n",
       "      <td>Hollywood</td>\n",
       "      <td>668</td>\n",
       "      <td>1</td>\n",
       "      <td>442</td>\n",
       "      <td>...</td>\n",
       "      <td>1822 0325 2004</td>\n",
       "      <td>0</td>\n",
       "      <td>X</td>\n",
       "      <td>X</td>\n",
       "      <td>203.0</td>\n",
       "      <td>OTHER BUSINESS</td>\n",
       "      <td>NaN</td>\n",
       "      <td>NaN</td>\n",
       "      <td>IC</td>\n",
       "      <td>Invest Cont</td>\n",
       "    </tr>\n",
       "    <tr>\n",
       "      <th>1</th>\n",
       "      <td>644972</td>\n",
       "      <td>230106843</td>\n",
       "      <td>02/12/2023 12:00:00 AM</td>\n",
       "      <td>2023-02-11</td>\n",
       "      <td>1630</td>\n",
       "      <td>1</td>\n",
       "      <td>Central</td>\n",
       "      <td>191</td>\n",
       "      <td>1</td>\n",
       "      <td>440</td>\n",
       "      <td>...</td>\n",
       "      <td>0913 0344 0603</td>\n",
       "      <td>48</td>\n",
       "      <td>M</td>\n",
       "      <td>H</td>\n",
       "      <td>502.0</td>\n",
       "      <td>MULTI-UNIT DWELLING (APARTMENT, DUPLEX, ETC)</td>\n",
       "      <td>NaN</td>\n",
       "      <td>NaN</td>\n",
       "      <td>IC</td>\n",
       "      <td>Invest Cont</td>\n",
       "    </tr>\n",
       "    <tr>\n",
       "      <th>2</th>\n",
       "      <td>644973</td>\n",
       "      <td>231515059</td>\n",
       "      <td>09/19/2023 12:00:00 AM</td>\n",
       "      <td>2023-09-19</td>\n",
       "      <td>1030</td>\n",
       "      <td>15</td>\n",
       "      <td>N Hollywood</td>\n",
       "      <td>1549</td>\n",
       "      <td>1</td>\n",
       "      <td>230</td>\n",
       "      <td>...</td>\n",
       "      <td>1309 0421 0913 0334</td>\n",
       "      <td>36</td>\n",
       "      <td>F</td>\n",
       "      <td>W</td>\n",
       "      <td>101.0</td>\n",
       "      <td>STREET</td>\n",
       "      <td>102.0</td>\n",
       "      <td>HAND GUN</td>\n",
       "      <td>IC</td>\n",
       "      <td>Invest Cont</td>\n",
       "    </tr>\n",
       "    <tr>\n",
       "      <th>3</th>\n",
       "      <td>644974</td>\n",
       "      <td>230110347</td>\n",
       "      <td>04/11/2023 12:00:00 AM</td>\n",
       "      <td>2023-04-10</td>\n",
       "      <td>816</td>\n",
       "      <td>1</td>\n",
       "      <td>Central</td>\n",
       "      <td>192</td>\n",
       "      <td>1</td>\n",
       "      <td>331</td>\n",
       "      <td>...</td>\n",
       "      <td>0344 1822</td>\n",
       "      <td>25</td>\n",
       "      <td>F</td>\n",
       "      <td>H</td>\n",
       "      <td>108.0</td>\n",
       "      <td>PARKING LOT</td>\n",
       "      <td>NaN</td>\n",
       "      <td>NaN</td>\n",
       "      <td>IC</td>\n",
       "      <td>Invest Cont</td>\n",
       "    </tr>\n",
       "    <tr>\n",
       "      <th>4</th>\n",
       "      <td>644975</td>\n",
       "      <td>230618504</td>\n",
       "      <td>12/01/2023 12:00:00 AM</td>\n",
       "      <td>2023-12-01</td>\n",
       "      <td>110</td>\n",
       "      <td>6</td>\n",
       "      <td>Hollywood</td>\n",
       "      <td>639</td>\n",
       "      <td>2</td>\n",
       "      <td>626</td>\n",
       "      <td>...</td>\n",
       "      <td>1202 1814 0913 0319 2001 1813 2000 0400 0448</td>\n",
       "      <td>65</td>\n",
       "      <td>F</td>\n",
       "      <td>W</td>\n",
       "      <td>502.0</td>\n",
       "      <td>MULTI-UNIT DWELLING (APARTMENT, DUPLEX, ETC)</td>\n",
       "      <td>400.0</td>\n",
       "      <td>STRONG-ARM (HANDS, FIST, FEET OR BODILY FORCE)</td>\n",
       "      <td>AO</td>\n",
       "      <td>Adult Other</td>\n",
       "    </tr>\n",
       "  </tbody>\n",
       "</table>\n",
       "<p>5 rows × 21 columns</p>\n",
       "</div>"
      ],
      "text/plain": [
       "   Unnamed: 0      DR_NO               Date Rptd    DATE OCC  TIME OCC  AREA  \\\n",
       "0      644971  230611294  06/17/2023 12:00:00 AM  2023-06-17      1140     6   \n",
       "1      644972  230106843  02/12/2023 12:00:00 AM  2023-02-11      1630     1   \n",
       "2      644973  231515059  09/19/2023 12:00:00 AM  2023-09-19      1030    15   \n",
       "3      644974  230110347  04/11/2023 12:00:00 AM  2023-04-10       816     1   \n",
       "4      644975  230618504  12/01/2023 12:00:00 AM  2023-12-01       110     6   \n",
       "\n",
       "     AREA NAME  Rpt Dist No  Part 1-2  Crm Cd  ...  \\\n",
       "0    Hollywood          668         1     442  ...   \n",
       "1      Central          191         1     440  ...   \n",
       "2  N Hollywood         1549         1     230  ...   \n",
       "3      Central          192         1     331  ...   \n",
       "4    Hollywood          639         2     626  ...   \n",
       "\n",
       "                                        Mocodes Vict Age  Vict Sex  \\\n",
       "0                                1822 0325 2004        0         X   \n",
       "1                                0913 0344 0603       48         M   \n",
       "2                           1309 0421 0913 0334       36         F   \n",
       "3                                     0344 1822       25         F   \n",
       "4  1202 1814 0913 0319 2001 1813 2000 0400 0448       65         F   \n",
       "\n",
       "  Vict Descent Premis Cd                                   Premis Desc  \\\n",
       "0            X     203.0                                OTHER BUSINESS   \n",
       "1            H     502.0  MULTI-UNIT DWELLING (APARTMENT, DUPLEX, ETC)   \n",
       "2            W     101.0                                        STREET   \n",
       "3            H     108.0                                   PARKING LOT   \n",
       "4            W     502.0  MULTI-UNIT DWELLING (APARTMENT, DUPLEX, ETC)   \n",
       "\n",
       "  Weapon Used Cd                                     Weapon Desc Status  \\\n",
       "0            NaN                                             NaN     IC   \n",
       "1            NaN                                             NaN     IC   \n",
       "2          102.0                                        HAND GUN     IC   \n",
       "3            NaN                                             NaN     IC   \n",
       "4          400.0  STRONG-ARM (HANDS, FIST, FEET OR BODILY FORCE)     AO   \n",
       "\n",
       "   Status Desc  \n",
       "0  Invest Cont  \n",
       "1  Invest Cont  \n",
       "2  Invest Cont  \n",
       "3  Invest Cont  \n",
       "4  Adult Other  \n",
       "\n",
       "[5 rows x 21 columns]"
      ]
     },
     "execution_count": 8,
     "metadata": {},
     "output_type": "execute_result"
    }
   ],
   "source": [
    "# print first 5 records of the dataframe\n",
    "df.head()"
   ]
  },
  {
   "cell_type": "code",
   "execution_count": 9,
   "id": "67be030e",
   "metadata": {
    "papermill": {
     "duration": 0.161544,
     "end_time": "2023-11-12T05:35:43.088513",
     "exception": false,
     "start_time": "2023-11-12T05:35:42.926969",
     "status": "completed"
    },
    "tags": []
   },
   "outputs": [
    {
     "name": "stdout",
     "output_type": "stream",
     "text": [
      "<class 'pandas.core.frame.DataFrame'>\n",
      "Index: 390088 entries, 230611294 to 241515289\n",
      "Data columns (total 20 columns):\n",
      " #   Column          Non-Null Count   Dtype  \n",
      "---  ------          --------------   -----  \n",
      " 0   Unnamed: 0      390088 non-null  int64  \n",
      " 1   Date Rptd       390088 non-null  object \n",
      " 2   DATE OCC        390088 non-null  object \n",
      " 3   TIME OCC        390088 non-null  int64  \n",
      " 4   AREA            390088 non-null  int64  \n",
      " 5   AREA NAME       390088 non-null  object \n",
      " 6   Rpt Dist No     390088 non-null  int64  \n",
      " 7   Part 1-2        390088 non-null  int64  \n",
      " 8   Crm Cd          390088 non-null  int64  \n",
      " 9   Crm Cd Desc     390088 non-null  object \n",
      " 10  Mocodes         319764 non-null  object \n",
      " 11  Vict Age        390088 non-null  int64  \n",
      " 12  Vict Sex        322491 non-null  object \n",
      " 13  Vict Descent    322483 non-null  object \n",
      " 14  Premis Cd       390077 non-null  float64\n",
      " 15  Premis Desc     389790 non-null  object \n",
      " 16  Weapon Used Cd  108059 non-null  float64\n",
      " 17  Weapon Desc     108059 non-null  object \n",
      " 18  Status          390086 non-null  object \n",
      " 19  Status Desc     390088 non-null  object \n",
      "dtypes: float64(2), int64(7), object(11)\n",
      "memory usage: 62.5+ MB\n"
     ]
    }
   ],
   "source": [
    "# Set column 'DR_NO' Index\n",
    "df = df.set_index('DR_NO')\n",
    "df.info()"
   ]
  },
  {
   "cell_type": "code",
   "execution_count": 10,
   "id": "ddf9c83d-0807-4868-b990-6b4a957aeeee",
   "metadata": {},
   "outputs": [
    {
     "name": "stdout",
     "output_type": "stream",
     "text": [
      "<class 'pandas.core.frame.DataFrame'>\n",
      "Index: 390088 entries, 230611294 to 241515289\n",
      "Data columns (total 19 columns):\n",
      " #   Column          Non-Null Count   Dtype  \n",
      "---  ------          --------------   -----  \n",
      " 0   Date Rptd       390088 non-null  object \n",
      " 1   DATE OCC        390088 non-null  object \n",
      " 2   TIME OCC        390088 non-null  int64  \n",
      " 3   AREA            390088 non-null  int64  \n",
      " 4   AREA NAME       390088 non-null  object \n",
      " 5   Rpt Dist No     390088 non-null  int64  \n",
      " 6   Part 1-2        390088 non-null  int64  \n",
      " 7   Crm Cd          390088 non-null  int64  \n",
      " 8   Crm Cd Desc     390088 non-null  object \n",
      " 9   Mocodes         319764 non-null  object \n",
      " 10  Vict Age        390088 non-null  int64  \n",
      " 11  Vict Sex        322491 non-null  object \n",
      " 12  Vict Descent    322483 non-null  object \n",
      " 13  Premis Cd       390077 non-null  float64\n",
      " 14  Premis Desc     389790 non-null  object \n",
      " 15  Weapon Used Cd  108059 non-null  float64\n",
      " 16  Weapon Desc     108059 non-null  object \n",
      " 17  Status          390086 non-null  object \n",
      " 18  Status Desc     390088 non-null  object \n",
      "dtypes: float64(2), int64(6), object(11)\n",
      "memory usage: 59.5+ MB\n"
     ]
    }
   ],
   "source": [
    "# Drop uneccesary columns\n",
    "df = df.loc[:, ~df.columns.str.contains('^Unnamed')]\n",
    "\n",
    "# Checking dataframe\n",
    "df.info()"
   ]
  },
  {
   "cell_type": "code",
   "execution_count": 11,
   "id": "924bf815-14f6-4a81-9fd1-513d63c3ffe1",
   "metadata": {},
   "outputs": [
    {
     "name": "stdout",
     "output_type": "stream",
     "text": [
      "<class 'pandas.core.frame.DataFrame'>\n",
      "Index: 390088 entries, 230611294 to 241515289\n",
      "Data columns (total 20 columns):\n",
      " #   Column          Non-Null Count   Dtype  \n",
      "---  ------          --------------   -----  \n",
      " 0   Date Rptd       390088 non-null  object \n",
      " 1   DATE OCC        390088 non-null  object \n",
      " 2   TIME OCC        390088 non-null  int64  \n",
      " 3   AREA            390088 non-null  int64  \n",
      " 4   AREA NAME       390088 non-null  object \n",
      " 5   Rpt Dist No     390088 non-null  int64  \n",
      " 6   Part 1-2        390088 non-null  int64  \n",
      " 7   Crm Cd          390088 non-null  int64  \n",
      " 8   Crm Cd Desc     390088 non-null  object \n",
      " 9   Mocodes         319764 non-null  object \n",
      " 10  Vict Age        390088 non-null  int64  \n",
      " 11  Vict Sex        322491 non-null  object \n",
      " 12  Vict Descent    322483 non-null  object \n",
      " 13  Premis Cd       390077 non-null  float64\n",
      " 14  Premis Desc     389790 non-null  object \n",
      " 15  Weapon Used Cd  108059 non-null  float64\n",
      " 16  Weapon Desc     108059 non-null  object \n",
      " 17  Status          390086 non-null  object \n",
      " 18  Status Desc     390088 non-null  object \n",
      " 19  Target          390086 non-null  object \n",
      "dtypes: float64(2), int64(6), object(12)\n",
      "memory usage: 62.5+ MB\n"
     ]
    }
   ],
   "source": [
    "# Map Target Column\n",
    "\n",
    "# Mapping dictionary\n",
    "mapping = {\n",
    "            'IC': 'No Arrest'\n",
    "            ,'AA': 'Arrest'\n",
    "            ,'AO': 'No Arrest'\n",
    "            ,'JO': 'No Arrest'\n",
    "            ,'JA': 'Arrest'\n",
    "            ,'CC': 'No Arrest'\n",
    "}\n",
    "\n",
    "df['Target'] = df['Status'].map(mapping)\n",
    "\n",
    "# Checking dataframe\n",
    "df.info()\n"
   ]
  },
  {
   "cell_type": "code",
   "execution_count": 12,
   "id": "e9bcc604",
   "metadata": {
    "papermill": {
     "duration": 0.070116,
     "end_time": "2023-11-12T05:35:45.127516",
     "exception": false,
     "start_time": "2023-11-12T05:35:45.057400",
     "status": "completed"
    },
    "tags": []
   },
   "outputs": [
    {
     "name": "stdout",
     "output_type": "stream",
     "text": [
      "<class 'pandas.core.frame.DataFrame'>\n",
      "Index: 390088 entries, 230611294 to 241515289\n",
      "Data columns (total 20 columns):\n",
      " #   Column          Non-Null Count   Dtype         \n",
      "---  ------          --------------   -----         \n",
      " 0   Date Rptd       390088 non-null  datetime64[ns]\n",
      " 1   DATE OCC        390088 non-null  datetime64[ns]\n",
      " 2   TIME OCC        390088 non-null  int64         \n",
      " 3   AREA            390088 non-null  int64         \n",
      " 4   AREA NAME       390088 non-null  string        \n",
      " 5   Rpt Dist No     390088 non-null  int64         \n",
      " 6   Part 1-2        390088 non-null  int64         \n",
      " 7   Crm Cd          390088 non-null  int64         \n",
      " 8   Crm Cd Desc     390088 non-null  string        \n",
      " 9   Mocodes         319764 non-null  string        \n",
      " 10  Vict Age        390088 non-null  int64         \n",
      " 11  Vict Sex        322491 non-null  string        \n",
      " 12  Vict Descent    322483 non-null  string        \n",
      " 13  Premis Cd       390077 non-null  float64       \n",
      " 14  Premis Desc     389790 non-null  string        \n",
      " 15  Weapon Used Cd  108059 non-null  float64       \n",
      " 16  Weapon Desc     108059 non-null  string        \n",
      " 17  Status          390086 non-null  string        \n",
      " 18  Status Desc     390088 non-null  string        \n",
      " 19  Target          390086 non-null  string        \n",
      "dtypes: datetime64[ns](2), float64(2), int64(6), string(10)\n",
      "memory usage: 62.5 MB\n"
     ]
    }
   ],
   "source": [
    "# Convert the columns to a suitable data type\n",
    "df['Date Rptd'] = df['Date Rptd'].apply(lambda x: datetime.strptime(x, '%m/%d/%Y %I:%M:%S %p'))\n",
    "df['DATE OCC'] = df['DATE OCC'].apply(lambda x: datetime.strptime(x, '%Y-%m-%d'))\n",
    "df['AREA NAME'] = df['AREA NAME'].astype('string')\n",
    "df['Crm Cd Desc'] = df['Crm Cd Desc'].astype('string')\n",
    "df['Mocodes'] = df['Mocodes'].astype('string')\n",
    "df['Vict Sex'] = df['Vict Sex'].astype('string')\n",
    "df['Vict Descent'] = df['Vict Descent'].astype('string')\n",
    "df['Premis Desc'] = df['Premis Desc'].astype('string')\n",
    "df['Weapon Desc'] = df['Weapon Desc'].astype('string')\n",
    "df['Status'] = df['Status'].astype('string')\n",
    "df['Status Desc'] = df['Status Desc'].astype('string')\n",
    "df['Target'] = df['Target'].astype('string')\n",
    "# Checking dataframe\n",
    "df.info()"
   ]
  },
  {
   "cell_type": "code",
   "execution_count": 13,
   "id": "1fd806f6-b4f5-4df0-b8f3-adf1bb1fc89a",
   "metadata": {},
   "outputs": [
    {
     "name": "stdout",
     "output_type": "stream",
     "text": [
      "Target\n",
      "No Arrest    360535\n",
      "Arrest        29551\n",
      "Name: count, dtype: Int64\n"
     ]
    }
   ],
   "source": [
    "# Count values in 'col1'\n",
    "value_counts = df['Target'].value_counts()\n",
    "print(value_counts)"
   ]
  },
  {
   "cell_type": "code",
   "execution_count": 14,
   "id": "f3c3608e-c7fb-4a20-a599-70ee4a0784d8",
   "metadata": {},
   "outputs": [
    {
     "data": {
      "text/plain": [
       "Index(['Date Rptd', 'DATE OCC', 'TIME OCC', 'AREA', 'AREA NAME', 'Rpt Dist No',\n",
       "       'Part 1-2', 'Crm Cd', 'Crm Cd Desc', 'Mocodes', 'Vict Age', 'Vict Sex',\n",
       "       'Vict Descent', 'Premis Cd', 'Premis Desc', 'Weapon Used Cd',\n",
       "       'Weapon Desc', 'Status', 'Status Desc', 'Target'],\n",
       "      dtype='object')"
      ]
     },
     "execution_count": 14,
     "metadata": {},
     "output_type": "execute_result"
    }
   ],
   "source": [
    "# List columns\n",
    "df.columns"
   ]
  },
  {
   "cell_type": "markdown",
   "id": "510c64bb-d39c-4e9c-886a-004fe2ebe280",
   "metadata": {},
   "source": [
    "### Cleaning Data: Extension ⚙️"
   ]
  },
  {
   "cell_type": "code",
   "execution_count": null,
   "id": "8c6066e2-5787-40c3-809d-fdbc94bc4191",
   "metadata": {},
   "outputs": [],
   "source": [
    "# Remove Outliers\n"
   ]
  }
 ],
 "metadata": {
  "kernelspec": {
   "display_name": "Python 3 (ipykernel)",
   "language": "python",
   "name": "python3"
  },
  "language_info": {
   "codemirror_mode": {
    "name": "ipython",
    "version": 3
   },
   "file_extension": ".py",
   "mimetype": "text/x-python",
   "name": "python",
   "nbconvert_exporter": "python",
   "pygments_lexer": "ipython3",
   "version": "3.13.2"
  },
  "papermill": {
   "default_parameters": {},
   "duration": 46.575593,
   "end_time": "2023-11-12T05:36:17.402622",
   "environment_variables": {},
   "exception": null,
   "input_path": "__notebook__.ipynb",
   "output_path": "__notebook__.ipynb",
   "parameters": {},
   "start_time": "2023-11-12T05:35:30.827029",
   "version": "2.4.0"
  }
 },
 "nbformat": 4,
 "nbformat_minor": 5
}
